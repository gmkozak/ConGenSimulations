{
 "cells": [
  {
   "cell_type": "raw",
   "id": "81b94179-697a-4d48-b240-854091eda445",
   "metadata": {},
   "source": [
    "This is a file that will calculate allele frequencies and FST for two subpopulations (B and G). \n",
    "Allele frequencies are listed in Table1 below."
   ]
  },
  {
   "cell_type": "code",
   "execution_count": 4,
   "id": "d241a84f-ff36-4e70-b694-28c30cca7fe5",
   "metadata": {},
   "outputs": [
    {
     "data": {
      "text/html": [
       "<table class=\"dataframe\">\n",
       "<caption>A data.frame: 2 × 3</caption>\n",
       "<thead>\n",
       "\t<tr><th></th><th scope=col>11</th><th scope=col>12</th><th scope=col>22</th></tr>\n",
       "\t<tr><th></th><th scope=col>&lt;dbl&gt;</th><th scope=col>&lt;dbl&gt;</th><th scope=col>&lt;dbl&gt;</th></tr>\n",
       "</thead>\n",
       "<tbody>\n",
       "\t<tr><th scope=row>B</th><td> 2</td><td>21</td><td>31</td></tr>\n",
       "\t<tr><th scope=row>G</th><td>41</td><td>12</td><td> 1</td></tr>\n",
       "</tbody>\n",
       "</table>\n"
      ],
      "text/latex": [
       "A data.frame: 2 × 3\n",
       "\\begin{tabular}{r|lll}\n",
       "  & 11 & 12 & 22\\\\\n",
       "  & <dbl> & <dbl> & <dbl>\\\\\n",
       "\\hline\n",
       "\tB &  2 & 21 & 31\\\\\n",
       "\tG & 41 & 12 &  1\\\\\n",
       "\\end{tabular}\n"
      ],
      "text/markdown": [
       "\n",
       "A data.frame: 2 × 3\n",
       "\n",
       "| <!--/--> | 11 &lt;dbl&gt; | 12 &lt;dbl&gt; | 22 &lt;dbl&gt; |\n",
       "|---|---|---|---|\n",
       "| B |  2 | 21 | 31 |\n",
       "| G | 41 | 12 |  1 |\n",
       "\n"
      ],
      "text/plain": [
       "  11 12 22\n",
       "B  2 21 31\n",
       "G 41 12  1"
      ]
     },
     "metadata": {},
     "output_type": "display_data"
    }
   ],
   "source": [
    "B <- c(2, 21, 31) \n",
    "G <- c(41,12 ,1) \n",
    "\n",
    "Table1<-rbind.data.frame(B,G)\n",
    "colnames(Table1)<-c(\"11\",\"12\",\"22\")\n",
    "rownames(Table1)<-c(\"B\",\"G\") \n",
    "Table1"
   ]
  },
  {
   "cell_type": "raw",
   "id": "1c0c01f9-5389-4fbe-83f7-ad55739fe651",
   "metadata": {},
   "source": [
    "Calculate allele frequencies (p,q,) for each subpopulation."
   ]
  },
  {
   "cell_type": "code",
   "execution_count": 5,
   "id": "64a8c58b-7fed-4534-b821-61cf75c8c486",
   "metadata": {},
   "outputs": [
    {
     "name": "stdout",
     "output_type": "stream",
     "text": [
      "[1] \"p_B\"\n"
     ]
    },
    {
     "data": {
      "text/html": [
       "0.231481481481481"
      ],
      "text/latex": [
       "0.231481481481481"
      ],
      "text/markdown": [
       "0.231481481481481"
      ],
      "text/plain": [
       "[1] 0.2314815"
      ]
     },
     "metadata": {},
     "output_type": "display_data"
    },
    {
     "name": "stdout",
     "output_type": "stream",
     "text": [
      "[1] \"p_G\"\n"
     ]
    },
    {
     "data": {
      "text/html": [
       "0.87037037037037"
      ],
      "text/latex": [
       "0.87037037037037"
      ],
      "text/markdown": [
       "0.87037037037037"
      ],
      "text/plain": [
       "[1] 0.8703704"
      ]
     },
     "metadata": {},
     "output_type": "display_data"
    },
    {
     "name": "stdout",
     "output_type": "stream",
     "text": [
      "[1] \"q_B\"\n"
     ]
    },
    {
     "data": {
      "text/html": [
       "0.768518518518518"
      ],
      "text/latex": [
       "0.768518518518518"
      ],
      "text/markdown": [
       "0.768518518518518"
      ],
      "text/plain": [
       "[1] 0.7685185"
      ]
     },
     "metadata": {},
     "output_type": "display_data"
    },
    {
     "name": "stdout",
     "output_type": "stream",
     "text": [
      "[1] \"q_G\"\n"
     ]
    },
    {
     "data": {
      "text/html": [
       "0.12962962962963"
      ],
      "text/latex": [
       "0.12962962962963"
      ],
      "text/markdown": [
       "0.12962962962963"
      ],
      "text/plain": [
       "[1] 0.1296296"
      ]
     },
     "metadata": {},
     "output_type": "display_data"
    }
   ],
   "source": [
    "n1 <- sum(B)\n",
    "n2 <- sum(G)\n",
    "\n",
    "p_B <- ((B[1]*2) + B[2])/(2*n1)\n",
    "print (\"p_B\")\n",
    "p_B\n",
    "p_G <- ((G[1]*2) + G[2])/(2*n2)\n",
    "print (\"p_G\")\n",
    "p_G\n",
    "\n",
    "q_B <- 1 - p_B\n",
    "q_G <- 1 - p_G\n",
    "print (\"q_B\")\n",
    "q_B\n",
    "print (\"q_G\")\n",
    "q_G"
   ]
  },
  {
   "cell_type": "raw",
   "id": "1b87b7ca-4d75-450e-9360-656ae92a999a",
   "metadata": {},
   "source": [
    "Calculate the allele frequencies overall (\"total\"), considering everything one big population."
   ]
  },
  {
   "cell_type": "code",
   "execution_count": 6,
   "id": "dfdbe4e6-573f-45bb-b050-52327993d854",
   "metadata": {},
   "outputs": [
    {
     "name": "stdout",
     "output_type": "stream",
     "text": [
      "[1] \"p_t\"\n"
     ]
    },
    {
     "data": {
      "text/html": [
       "0.550925925925926"
      ],
      "text/latex": [
       "0.550925925925926"
      ],
      "text/markdown": [
       "0.550925925925926"
      ],
      "text/plain": [
       "[1] 0.5509259"
      ]
     },
     "metadata": {},
     "output_type": "display_data"
    },
    {
     "name": "stdout",
     "output_type": "stream",
     "text": [
      "[1] \"q_t\"\n"
     ]
    },
    {
     "data": {
      "text/html": [
       "0.449074074074074"
      ],
      "text/latex": [
       "0.449074074074074"
      ],
      "text/markdown": [
       "0.449074074074074"
      ],
      "text/plain": [
       "[1] 0.4490741"
      ]
     },
     "metadata": {},
     "output_type": "display_data"
    }
   ],
   "source": [
    "p_t<- (p_B + p_G)/2\n",
    "q_t <- 1 - p_t\n",
    "print (\"p_t\")\n",
    "p_t\n",
    "print (\"q_t\")\n",
    "q_t"
   ]
  },
  {
   "cell_type": "raw",
   "id": "0fd44424-ac50-4eaa-a1db-33f4c131f4c2",
   "metadata": {},
   "source": [
    "Calculate the expected Heterozygosity (Hs) for each subpopulation from the allele frequencies (p_B, q_B, p_G, q_G), then average to get the overall Hs."
   ]
  },
  {
   "cell_type": "code",
   "execution_count": 8,
   "id": "e85878fa-9d75-4abb-9757-83b61f3e8104",
   "metadata": {},
   "outputs": [
    {
     "name": "stdout",
     "output_type": "stream",
     "text": [
      "[1] \"hs_B\"\n"
     ]
    },
    {
     "data": {
      "text/html": [
       "0.35579561042524"
      ],
      "text/latex": [
       "0.35579561042524"
      ],
      "text/markdown": [
       "0.35579561042524"
      ],
      "text/plain": [
       "[1] 0.3557956"
      ]
     },
     "metadata": {},
     "output_type": "display_data"
    },
    {
     "name": "stdout",
     "output_type": "stream",
     "text": [
      "[1] \"hs_G\"\n"
     ]
    },
    {
     "data": {
      "text/html": [
       "0.225651577503429"
      ],
      "text/latex": [
       "0.225651577503429"
      ],
      "text/markdown": [
       "0.225651577503429"
      ],
      "text/plain": [
       "[1] 0.2256516"
      ]
     },
     "metadata": {},
     "output_type": "display_data"
    },
    {
     "name": "stdout",
     "output_type": "stream",
     "text": [
      "[1] \"Hs\"\n"
     ]
    },
    {
     "data": {
      "text/html": [
       "0.290723593964335"
      ],
      "text/latex": [
       "0.290723593964335"
      ],
      "text/markdown": [
       "0.290723593964335"
      ],
      "text/plain": [
       "[1] 0.2907236"
      ]
     },
     "metadata": {},
     "output_type": "display_data"
    }
   ],
   "source": [
    "hs_B <- 2*p_B*q_B\n",
    "\n",
    "hs_G <- 2*p_G*q_G\n",
    "\n",
    "Hs <- (hs_B + hs_G)/2\n",
    "\n",
    "print (\"hs_B\")\n",
    "hs_B\n",
    "print (\"hs_G\")\n",
    "hs_G\n",
    "print(\"Hs\")\n",
    "Hs"
   ]
  },
  {
   "cell_type": "code",
   "execution_count": null,
   "id": "8357d9cf-2485-4159-880a-ce5a9edea3f1",
   "metadata": {},
   "outputs": [],
   "source": [
    "Calculate the total heterozygosity (Ht)."
   ]
  },
  {
   "cell_type": "code",
   "execution_count": 9,
   "id": "7e2061b3-de2d-4bcc-bdd7-ffea80510aad",
   "metadata": {},
   "outputs": [
    {
     "name": "stdout",
     "output_type": "stream",
     "text": [
      "[1] \"Ht\"\n"
     ]
    },
    {
     "data": {
      "text/html": [
       "0.494813100137174"
      ],
      "text/latex": [
       "0.494813100137174"
      ],
      "text/markdown": [
       "0.494813100137174"
      ],
      "text/plain": [
       "[1] 0.4948131"
      ]
     },
     "metadata": {},
     "output_type": "display_data"
    }
   ],
   "source": [
    "Ht <- 2*p_t*q_t\n",
    "\n",
    "print(\"Ht\")\n",
    "Ht"
   ]
  },
  {
   "cell_type": "raw",
   "id": "8608d155-4140-45aa-a9f4-45a7a08bf695",
   "metadata": {},
   "source": [
    "Calculate Fst (way 1), or the proportion of genetic variation that is associated with subpopulation."
   ]
  },
  {
   "cell_type": "code",
   "execution_count": 33,
   "id": "e16888f1-b99a-4d14-8ee0-a0d14d4814a5",
   "metadata": {},
   "outputs": [
    {
     "name": "stdout",
     "output_type": "stream",
     "text": [
      "[1] \"fst\"\n"
     ]
    },
    {
     "data": {
      "text/html": [
       "0.412457766611799"
      ],
      "text/latex": [
       "0.412457766611799"
      ],
      "text/markdown": [
       "0.412457766611799"
      ],
      "text/plain": [
       "[1] 0.4124578"
      ]
     },
     "metadata": {},
     "output_type": "display_data"
    }
   ],
   "source": [
    "Fst <- (Ht - Hs)/Ht\n",
    "print(\"Fst\")\n",
    "Fst"
   ]
  },
  {
   "cell_type": "code",
   "execution_count": 10,
   "id": "01865623-97a7-4dd5-930d-7281fde72251",
   "metadata": {},
   "outputs": [
    {
     "name": "stdout",
     "output_type": "stream",
     "text": [
      "[1] \"Fst\"\n"
     ]
    },
    {
     "data": {
      "text/html": [
       "0.412457766611799"
      ],
      "text/latex": [
       "0.412457766611799"
      ],
      "text/markdown": [
       "0.412457766611799"
      ],
      "text/plain": [
       "[1] 0.4124578"
      ]
     },
     "metadata": {},
     "output_type": "display_data"
    }
   ],
   "source": [
    "Fst <- 1- Hs/Ht\n",
    "print(\"Fst\")\n",
    "Fst"
   ]
  }
 ],
 "metadata": {
  "kernelspec": {
   "display_name": "R",
   "language": "R",
   "name": "ir"
  },
  "language_info": {
   "codemirror_mode": "r",
   "file_extension": ".r",
   "mimetype": "text/x-r-source",
   "name": "R",
   "pygments_lexer": "r",
   "version": "4.4.3"
  }
 },
 "nbformat": 4,
 "nbformat_minor": 5
}
